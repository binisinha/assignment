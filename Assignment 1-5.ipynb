{
 "cells": [
  {
   "cell_type": "markdown",
   "metadata": {},
   "source": [
    "# Assignment No. 1"
   ]
  },
  {
   "cell_type": "code",
   "execution_count": 175,
   "metadata": {},
   "outputs": [
    {
     "name": "stdout",
     "output_type": "stream",
     "text": [
      "2002,2009,2016,2023,2037,2044,2051,2058,2072,2079,2086,2093,2107,2114,2121,2128,2142,2149,2156,2163,2177,2184,2191,2198,2212,2219,2226,2233,2247,2254,2261,2268,2282,2289,2296,2303,2317,2324,2331,2338,2352,2359,2366,2373,2387,2394,2401,2408,2422,2429,2436,2443,2457,2464,2471,2478,2492,2499,2506,2513,2527,2534,2541,2548,2562,2569,2576,2583,2597,2604,2611,2618,2632,2639,2646,2653,2667,2674,2681,2688,2702,2709,2716,2723,2737,2744,2751,2758,2772,2779,2786,2793,2807,2814,2821,2828,2842,2849,2856,2863,2877,2884,2891,2898,2912,2919,2926,2933,2947,2954,2961,2968,2982,2989,2996,3003,3017,3024,3031,3038,3052,3059,3066,3073,3087,3094,3101,3108,3122,3129,3136,3143,3157,3164,3171,3178,3192,3199\n"
     ]
    }
   ],
   "source": [
    "n1= []\n",
    "\n",
    "for x in range(2000,3200):\n",
    "        if (x%7==0) and (x%5!=0):\n",
    "            n1.append(str(x))\n",
    "print(','.join(n1))"
   ]
  },
  {
   "cell_type": "code",
   "execution_count": 179,
   "metadata": {},
   "outputs": [
    {
     "name": "stdout",
     "output_type": "stream",
     "text": [
      "Enter the first name: arup\n",
      "Enter the Second name: tarup\n",
      "tarup arup\n"
     ]
    }
   ],
   "source": [
    "\n",
    "Ist_name= input( \"Enter the first name: \")\n",
    "IInd_name= input( \"Enter the Second name: \")\n",
    "print(IInd_name+' '+Ist_name)"
   ]
  },
  {
   "cell_type": "markdown",
   "metadata": {},
   "source": [
    "# Assignment No. 2"
   ]
  },
  {
   "cell_type": "code",
   "execution_count": 149,
   "metadata": {},
   "outputs": [
    {
     "name": "stdout",
     "output_type": "stream",
     "text": [
      "Enter comma sperated number: 34,23,45,67\n",
      "['34', '23', '45', '67']\n",
      "('34', '23', '45', '67')\n"
     ]
    }
   ],
   "source": [
    "value=input(\"Enter comma sperated number: \")\n",
    "list= value.split(\",\")\n",
    "tup=tuple(list)\n",
    "print(list)\n",
    "print(tup)"
   ]
  },
  {
   "cell_type": "code",
   "execution_count": 147,
   "metadata": {},
   "outputs": [
    {
     "name": "stdout",
     "output_type": "stream",
     "text": [
      "Enter maximum number of Star to be displayed: 5\n",
      "*  \n",
      " \n",
      "* *  \n",
      " \n",
      "* * *  \n",
      " \n",
      "* * * *  \n",
      " \n",
      "* * * * *  \n",
      " \n",
      "* * * *  \n",
      " \n",
      "* * *  \n",
      " \n",
      "* *  \n",
      " \n",
      "*  \n",
      " \n",
      " \n",
      " \n"
     ]
    }
   ],
   "source": [
    "ro= int(input(\"Enter maximum number of Star to be displayed: \"))\n",
    "for i in range(0, ro):\n",
    "    for j in range(0, i+1):\n",
    "        print(\"*\", end= ' ')\n",
    "    print(\" \\n \")\n",
    "for i in range(ro, 0, -1):\n",
    "    for j in range(0, i-1):\n",
    "        print(\"*\", end= ' ')\n",
    "    print(\" \\n \")        "
   ]
  },
  {
   "cell_type": "code",
   "execution_count": 150,
   "metadata": {},
   "outputs": [
    {
     "name": "stdout",
     "output_type": "stream",
     "text": [
      "Enter a string: Ayush\n",
      "string_input:  Ayush\n",
      "hsuyA\n"
     ]
    }
   ],
   "source": [
    "str_input= input(\"Enter a string: \")\n",
    "print(\"string_input: \", str_input)\n",
    "print(str_input[::-1])"
   ]
  },
  {
   "cell_type": "code",
   "execution_count": 152,
   "metadata": {},
   "outputs": [
    {
     "name": "stdout",
     "output_type": "stream",
     "text": [
      "WE, THE PEOPLE OF INDIA, \n",
      " having solemnly resolved to constitute India into a SOVEREIGN !, \n",
      "\tSOCIALIST, SECULAR, DEMOCRATIC \n",
      "\t\tREPUBLIC and to secure to all its citizens \n"
     ]
    }
   ],
   "source": [
    "stri=(\"WE, THE PEOPLE OF INDIA, \\n having solemnly resolved to constitute India into a SOVEREIGN !, \\n\\tSOCIALIST, SECULAR, DEMOCRATIC \\n\\t\\tREPUBLIC and to secure to all its citizens \")\n",
    "print(stri)"
   ]
  },
  {
   "cell_type": "markdown",
   "metadata": {},
   "source": [
    "# Assignment No. 3"
   ]
  },
  {
   "cell_type": "code",
   "execution_count": 10,
   "metadata": {},
   "outputs": [
    {
     "name": "stdout",
     "output_type": "stream",
     "text": [
      "260\n"
     ]
    }
   ],
   "source": [
    "def myreduce(my_list):\n",
    "    a=0\n",
    "    for i in my_list:\n",
    "        a=a+i\n",
    "    print(a)\n",
    "myreduce(my_list=[70,60,80,50])"
   ]
  },
  {
   "cell_type": "code",
   "execution_count": 17,
   "metadata": {},
   "outputs": [
    {
     "name": "stdout",
     "output_type": "stream",
     "text": [
      "[0]\n",
      "[0]\n",
      "[0, 2]\n",
      "[0, 2]\n",
      "[0, 2, 4]\n",
      "[0, 2, 4]\n",
      "[0, 2, 4, 6]\n",
      "[0, 2, 4, 6]\n",
      "[0, 2, 4, 6, 8]\n",
      "[0, 2, 4, 6, 8]\n"
     ]
    }
   ],
   "source": [
    "output=[]\n",
    "def myfilter(list1):\n",
    "    for i in list1:\n",
    "        if i%2==0:\n",
    "            output.append(i)\n",
    "        print(output)\n",
    "myfilter(list1=range(10))"
   ]
  },
  {
   "cell_type": "code",
   "execution_count": 51,
   "metadata": {},
   "outputs": [
    {
     "name": "stdout",
     "output_type": "stream",
     "text": [
      "['A', 'C', 'A', 'D', 'G', 'I', 'L', 'D']\n",
      "['x', 'xx', 'xxx', 'xxxx', 'y', 'yy', 'yyy', 'yyyy', 'z', 'zz', 'zzz', 'zzzz']\n",
      "['x', 'y', 'z', 'xx', 'yy', 'zz', 'xxx', 'yyy', 'zzz', 'xxxx', 'yyyy', 'zzzz']\n",
      "[[2], [3], [4], [5], [6], [2, 3, 4, 5], [3, 4, 5, 6], [4, 5, 6, 7], [5, 6, 7, 8]]\n",
      "[(1, 1), (1, 2), (1, 3), (2, 1), (2, 2), (2, 3), (3, 1), (3, 2), (3, 3)]\n"
     ]
    }
   ],
   "source": [
    "input1=(\"ACADGILD\")\n",
    "print(list(input1))\n",
    "\n",
    "input2=\"xyz\"\n",
    "sep=len(input2)\n",
    "object=[]\n",
    "for i in range(0, sep):\n",
    "       for j in range(1,5):\n",
    "            object.append(input2[i]*j)\n",
    "print(object)\n",
    "input3=[ i*j for j in range(1,5,1) for i in ['x','y','z']]\n",
    "print(input3)\n",
    "\n",
    "input4=[[x+y for x in range(2,3)] for y in range(5)]\n",
    "input5=[[x+y for x in range(2,6)] for y in range(4)]\n",
    "print(input4+input5)\n",
    "\n",
    "input5= [(x,y) for x in range(1,4) for y in range(1,4)]\n",
    "print(input5)\n"
   ]
  },
  {
   "cell_type": "code",
   "execution_count": 64,
   "metadata": {},
   "outputs": [
    {
     "name": "stdout",
     "output_type": "stream",
     "text": [
      "elephant\n"
     ]
    }
   ],
   "source": [
    "def find_longest_word(listword):\n",
    "    len_word=[]\n",
    "    for n in listword:\n",
    "        len_word.append((len(n),n))\n",
    "        len_word.sort()\n",
    "    return len_word[-1][1]\n",
    "print(find_longest_word([\"elephant\", \"word\", \"he\"]))"
   ]
  },
  {
   "cell_type": "markdown",
   "metadata": {},
   "source": [
    "# Assignment 4"
   ]
  },
  {
   "cell_type": "code",
   "execution_count": 107,
   "metadata": {},
   "outputs": [
    {
     "ename": "SyntaxError",
     "evalue": "'return' outside function (<ipython-input-107-84ce4a4b2804>, line 17)",
     "output_type": "error",
     "traceback": [
      "\u001b[1;36m  File \u001b[1;32m\"<ipython-input-107-84ce4a4b2804>\"\u001b[1;36m, line \u001b[1;32m17\u001b[0m\n\u001b[1;33m    return(s*(s-a)*(s-b)*(s-c)) ** 0.5\u001b[0m\n\u001b[1;37m                                      ^\u001b[0m\n\u001b[1;31mSyntaxError\u001b[0m\u001b[1;31m:\u001b[0m 'return' outside function\n"
     ]
    }
   ],
   "source": [
    "class area_of_tringle:\n",
    "   \n",
    "    def _init_(self, n):\n",
    "        self.number_of_sides = n\n",
    "    \n",
    "class Triangle(area_of_tringle):\n",
    "    \n",
    "    def _init_(self, lengths_of_sides):\n",
    "            area._init_(self, 3)\n",
    "            self.lengths_of_sides = lengths_of_sides\n",
    "   \n",
    "    def get_area(self):\n",
    "        a, b, c = self.lengths_of_sides\n",
    "       \n",
    "        s = (a + b + c) / 2\n",
    "\n",
    "return(s*(s-a)*(s-b)*(s-c)) ** 0.5\n",
    "    \n",
    "    "
   ]
  },
  {
   "cell_type": "code",
   "execution_count": 126,
   "metadata": {},
   "outputs": [
    {
     "name": "stdout",
     "output_type": "stream",
     "text": [
      "Enter wors seperated by spaces: my name is arunamayi\n",
      "Minimum length of words to keep: 4\n",
      " Words longer than 4 are name, arunamayi \n"
     ]
    }
   ],
   "source": [
    "def longwords(wordlist, length):\n",
    "        return (word for word in wordlist if len(word) >= length)\n",
    "    \n",
    "def main():\n",
    "        words =input(\"Enter words seperated by spaces: \").split()\n",
    "        length=int(input(\"Minimum length of words to keep: \"))\n",
    "        \n",
    "        print(\"Words longer than {} are {} \".format(length, ', '.join(longwords(words, length))))\n",
    "main()"
   ]
  },
  {
   "cell_type": "code",
   "execution_count": 144,
   "metadata": {},
   "outputs": [
    {
     "name": "stdout",
     "output_type": "stream",
     "text": [
      "[4, 8, 3]\n"
     ]
    }
   ],
   "source": [
    "def map_to_lengths_for(words):\n",
    "      \n",
    "    lenghts= []\n",
    "    for word in words:\n",
    "        lengths.append(len(word))\n",
    "        return lengths\n",
    "    \n",
    "def map_to_lengths_map(words):\n",
    "    return (len, words)\n",
    "\n",
    "def map_to_lengths_lists(words):\n",
    "    return[len(word) for word in words]\n",
    "\n",
    "if __name__== \"__main__\":\n",
    "    words= ['what', 'soldiers', 'sky']\n",
    "    print (map_to_lengths_lists(words))"
   ]
  },
  {
   "cell_type": "code",
   "execution_count": 146,
   "metadata": {},
   "outputs": [
    {
     "name": "stdout",
     "output_type": "stream",
     "text": [
      "Enter a character: b\n",
      "b is a Consonant\n"
     ]
    }
   ],
   "source": [
    "char = input(\"Enter a character: \")\n",
    "\n",
    "if(char=='A' or char=='a' or char=='E' or char =='e' or char=='I'\n",
    " or char=='i' or char=='O' or char=='o' or char=='U' or char=='u'):\n",
    "    print(char, \"is a Vowel\")\n",
    "else:\n",
    "    print(char, \"is a Consonant\")"
   ]
  },
  {
   "cell_type": "markdown",
   "metadata": {},
   "source": [
    "# Assignment 5"
   ]
  },
  {
   "cell_type": "code",
   "execution_count": 153,
   "metadata": {},
   "outputs": [
    {
     "name": "stdout",
     "output_type": "stream",
     "text": [
      "Enter on your first number:45\n",
      "Enter on your second number:0\n",
      "Error! you are dividing by zero\n"
     ]
    }
   ],
   "source": [
    "def divide(a, b):\n",
    "    a=0\n",
    "    b=0\n",
    "a= int(input(\"Enter on your first number:\"))\n",
    "b= int(input(\"Enter on your second number:\"))   \n",
    "try:\n",
    "    result= a // b\n",
    "    print(\"correct! you answer is :\", result)\n",
    "except ZeroDivisionError:\n",
    "    print(\"Error! you are dividing by zero\")\n",
    "    divide(a, b)"
   ]
  },
  {
   "cell_type": "code",
   "execution_count": 154,
   "metadata": {},
   "outputs": [
    {
     "name": "stdout",
     "output_type": "stream",
     "text": [
      "['Americans  play Baseball', 'Americans  play Cricket', 'Americans  watch Baseball', 'Americans  watch Cricket', 'Indians play Baseball', 'Indians play Cricket', 'Indians watch Baseball', 'Indians watch Cricket']\n"
     ]
    }
   ],
   "source": [
    "subjects=[\"Americans \",\"Indians\"] \n",
    " \n",
    "verbs=[\"play\",\"watch\"] \n",
    " \n",
    "objects=[\"Baseball\",\"Cricket\"] \n",
    "sentence_stuc= [(sub+\" \"+ve+\" \"+obj) for sub in subjects for ve in verbs for obj in objects]\n",
    "print(sentence_stuc)"
   ]
  },
  {
   "cell_type": "code",
   "execution_count": null,
   "metadata": {},
   "outputs": [],
   "source": []
  }
 ],
 "metadata": {
  "kernelspec": {
   "display_name": "Python 3",
   "language": "python",
   "name": "python3"
  },
  "language_info": {
   "codemirror_mode": {
    "name": "ipython",
    "version": 3
   },
   "file_extension": ".py",
   "mimetype": "text/x-python",
   "name": "python",
   "nbconvert_exporter": "python",
   "pygments_lexer": "ipython3",
   "version": "3.7.3"
  }
 },
 "nbformat": 4,
 "nbformat_minor": 2
}
